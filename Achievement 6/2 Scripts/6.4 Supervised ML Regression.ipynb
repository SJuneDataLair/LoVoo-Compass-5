{
 "cells": [
  {
   "cell_type": "markdown",
   "id": "9a33d8fc",
   "metadata": {},
   "source": [
    "# Content\n",
    "* Importing Libraries and Data\n",
    "* Data Cleaning\n",
    "* Data Wrangling and Exploration\n",
    "* Machine Learning"
   ]
  },
  {
   "cell_type": "markdown",
   "id": "e7e4ddcc",
   "metadata": {},
   "source": [
    "## 1 Importing Libraries and Data"
   ]
  },
  {
   "cell_type": "code",
   "execution_count": 42,
   "id": "280e90fb",
   "metadata": {},
   "outputs": [],
   "source": [
    "#importing libraries\n",
    "import pandas as pd\n",
    "import numpy as np\n",
    "import matplotlib\n",
    "import seaborn as sns\n",
    "import matplotlib.pyplot as plt\n",
    "import scipy as sp\n",
    "import os\n",
    "import sklearn \n",
    "from sklearn.model_selection import train_test_split\n",
    "from sklearn.linear_model import LinearRegression\n",
    "from sklearn.metrics import mean_squared_error, r2_score"
   ]
  },
  {
   "cell_type": "code",
   "execution_count": 2,
   "id": "aab0898c",
   "metadata": {},
   "outputs": [],
   "source": [
    "#importing data\n",
    "df=pd.read_csv(r'C:\\Users\\Samth\\CareerFoundry Projects\\Achievement 6\\1 Data\\Manipulated Data\\userapi_clean.csv')"
   ]
  },
  {
   "cell_type": "code",
   "execution_count": 3,
   "id": "56db1ae4",
   "metadata": {},
   "outputs": [],
   "source": [
    "#notebook view\n",
    "%matplotlib inline"
   ]
  },
  {
   "cell_type": "markdown",
   "id": "e91cebb1",
   "metadata": {},
   "source": [
    "## 2 Data Cleaning"
   ]
  },
  {
   "cell_type": "code",
   "execution_count": 4,
   "id": "127f2c51",
   "metadata": {},
   "outputs": [
    {
     "data": {
      "text/html": [
       "<div>\n",
       "<style scoped>\n",
       "    .dataframe tbody tr th:only-of-type {\n",
       "        vertical-align: middle;\n",
       "    }\n",
       "\n",
       "    .dataframe tbody tr th {\n",
       "        vertical-align: top;\n",
       "    }\n",
       "\n",
       "    .dataframe thead th {\n",
       "        text-align: right;\n",
       "    }\n",
       "</style>\n",
       "<table border=\"1\" class=\"dataframe\">\n",
       "  <thead>\n",
       "    <tr style=\"text-align: right;\">\n",
       "      <th></th>\n",
       "      <th>Unnamed: 0</th>\n",
       "      <th>gender</th>\n",
       "      <th>genderLooking</th>\n",
       "      <th>age</th>\n",
       "      <th>counts_details</th>\n",
       "      <th>counts_pictures</th>\n",
       "      <th>counts_profileVisits</th>\n",
       "      <th>counts_kisses</th>\n",
       "      <th>counts_fans</th>\n",
       "      <th>counts_g</th>\n",
       "      <th>...</th>\n",
       "      <th>lang_en</th>\n",
       "      <th>lang_de</th>\n",
       "      <th>lang_it</th>\n",
       "      <th>lang_es</th>\n",
       "      <th>lang_pt</th>\n",
       "      <th>verified</th>\n",
       "      <th>shareProfileEnabled</th>\n",
       "      <th>lastOnlineDate</th>\n",
       "      <th>lastOnlineTime</th>\n",
       "      <th>userId</th>\n",
       "    </tr>\n",
       "  </thead>\n",
       "  <tbody>\n",
       "    <tr>\n",
       "      <th>0</th>\n",
       "      <td>0</td>\n",
       "      <td>F</td>\n",
       "      <td>M</td>\n",
       "      <td>25</td>\n",
       "      <td>1.00</td>\n",
       "      <td>4</td>\n",
       "      <td>8279</td>\n",
       "      <td>239</td>\n",
       "      <td>0</td>\n",
       "      <td>3</td>\n",
       "      <td>...</td>\n",
       "      <td>False</td>\n",
       "      <td>True</td>\n",
       "      <td>False</td>\n",
       "      <td>False</td>\n",
       "      <td>False</td>\n",
       "      <td>0</td>\n",
       "      <td>1</td>\n",
       "      <td>2015-04-25T20:43:26Z</td>\n",
       "      <td>1.429995e+09</td>\n",
       "      <td>55303fc3160ba0eb728b4575</td>\n",
       "    </tr>\n",
       "    <tr>\n",
       "      <th>1</th>\n",
       "      <td>1</td>\n",
       "      <td>F</td>\n",
       "      <td>M</td>\n",
       "      <td>22</td>\n",
       "      <td>0.85</td>\n",
       "      <td>5</td>\n",
       "      <td>663</td>\n",
       "      <td>13</td>\n",
       "      <td>0</td>\n",
       "      <td>0</td>\n",
       "      <td>...</td>\n",
       "      <td>False</td>\n",
       "      <td>True</td>\n",
       "      <td>True</td>\n",
       "      <td>False</td>\n",
       "      <td>False</td>\n",
       "      <td>0</td>\n",
       "      <td>1</td>\n",
       "      <td>2015-04-26T09:19:35Z</td>\n",
       "      <td>1.430040e+09</td>\n",
       "      <td>552e7b61c66da10d1e8b4c82</td>\n",
       "    </tr>\n",
       "    <tr>\n",
       "      <th>2</th>\n",
       "      <td>2</td>\n",
       "      <td>F</td>\n",
       "      <td>M</td>\n",
       "      <td>21</td>\n",
       "      <td>0.00</td>\n",
       "      <td>4</td>\n",
       "      <td>1369</td>\n",
       "      <td>88</td>\n",
       "      <td>0</td>\n",
       "      <td>2</td>\n",
       "      <td>...</td>\n",
       "      <td>False</td>\n",
       "      <td>False</td>\n",
       "      <td>False</td>\n",
       "      <td>False</td>\n",
       "      <td>False</td>\n",
       "      <td>0</td>\n",
       "      <td>1</td>\n",
       "      <td>2015-04-06T14:24:07Z</td>\n",
       "      <td>1.428330e+09</td>\n",
       "      <td>54a584ecc56da128638b4674</td>\n",
       "    </tr>\n",
       "    <tr>\n",
       "      <th>3</th>\n",
       "      <td>3</td>\n",
       "      <td>F</td>\n",
       "      <td>none</td>\n",
       "      <td>20</td>\n",
       "      <td>0.12</td>\n",
       "      <td>3</td>\n",
       "      <td>22187</td>\n",
       "      <td>1015</td>\n",
       "      <td>2</td>\n",
       "      <td>3</td>\n",
       "      <td>...</td>\n",
       "      <td>True</td>\n",
       "      <td>False</td>\n",
       "      <td>False</td>\n",
       "      <td>False</td>\n",
       "      <td>False</td>\n",
       "      <td>0</td>\n",
       "      <td>1</td>\n",
       "      <td>2015-04-07T11:21:01Z</td>\n",
       "      <td>1.428406e+09</td>\n",
       "      <td>54c92738076ea1b5338b4735</td>\n",
       "    </tr>\n",
       "    <tr>\n",
       "      <th>4</th>\n",
       "      <td>4</td>\n",
       "      <td>F</td>\n",
       "      <td>M</td>\n",
       "      <td>21</td>\n",
       "      <td>0.15</td>\n",
       "      <td>12</td>\n",
       "      <td>35262</td>\n",
       "      <td>1413</td>\n",
       "      <td>9</td>\n",
       "      <td>12</td>\n",
       "      <td>...</td>\n",
       "      <td>False</td>\n",
       "      <td>True</td>\n",
       "      <td>False</td>\n",
       "      <td>False</td>\n",
       "      <td>False</td>\n",
       "      <td>0</td>\n",
       "      <td>1</td>\n",
       "      <td>2015-04-06T14:25:20Z</td>\n",
       "      <td>1.428330e+09</td>\n",
       "      <td>54e1a6f6c76da135748b4a3a</td>\n",
       "    </tr>\n",
       "    <tr>\n",
       "      <th>5</th>\n",
       "      <td>5</td>\n",
       "      <td>F</td>\n",
       "      <td>M</td>\n",
       "      <td>24</td>\n",
       "      <td>0.81</td>\n",
       "      <td>18</td>\n",
       "      <td>7339</td>\n",
       "      <td>180</td>\n",
       "      <td>0</td>\n",
       "      <td>2</td>\n",
       "      <td>...</td>\n",
       "      <td>True</td>\n",
       "      <td>True</td>\n",
       "      <td>False</td>\n",
       "      <td>False</td>\n",
       "      <td>False</td>\n",
       "      <td>0</td>\n",
       "      <td>1</td>\n",
       "      <td>2015-04-08T14:37:51Z</td>\n",
       "      <td>1.428504e+09</td>\n",
       "      <td>54f2b4ce0b6ea1177e8b4d18</td>\n",
       "    </tr>\n",
       "    <tr>\n",
       "      <th>6</th>\n",
       "      <td>6</td>\n",
       "      <td>F</td>\n",
       "      <td>none</td>\n",
       "      <td>24</td>\n",
       "      <td>0.65</td>\n",
       "      <td>13</td>\n",
       "      <td>18672</td>\n",
       "      <td>492</td>\n",
       "      <td>0</td>\n",
       "      <td>1</td>\n",
       "      <td>...</td>\n",
       "      <td>True</td>\n",
       "      <td>True</td>\n",
       "      <td>False</td>\n",
       "      <td>False</td>\n",
       "      <td>False</td>\n",
       "      <td>0</td>\n",
       "      <td>1</td>\n",
       "      <td>2015-04-27T19:29:58Z</td>\n",
       "      <td>1.430163e+09</td>\n",
       "      <td>54ecbb39170ba08b488b4aa5</td>\n",
       "    </tr>\n",
       "    <tr>\n",
       "      <th>7</th>\n",
       "      <td>7</td>\n",
       "      <td>F</td>\n",
       "      <td>M</td>\n",
       "      <td>23</td>\n",
       "      <td>0.81</td>\n",
       "      <td>6</td>\n",
       "      <td>19091</td>\n",
       "      <td>1348</td>\n",
       "      <td>0</td>\n",
       "      <td>20</td>\n",
       "      <td>...</td>\n",
       "      <td>True</td>\n",
       "      <td>True</td>\n",
       "      <td>False</td>\n",
       "      <td>False</td>\n",
       "      <td>False</td>\n",
       "      <td>0</td>\n",
       "      <td>0</td>\n",
       "      <td>2015-04-08T14:18:11Z</td>\n",
       "      <td>1.428503e+09</td>\n",
       "      <td>54fc1786170ba041758b4577</td>\n",
       "    </tr>\n",
       "    <tr>\n",
       "      <th>8</th>\n",
       "      <td>8</td>\n",
       "      <td>F</td>\n",
       "      <td>M</td>\n",
       "      <td>20</td>\n",
       "      <td>0.88</td>\n",
       "      <td>14</td>\n",
       "      <td>29984</td>\n",
       "      <td>2389</td>\n",
       "      <td>10</td>\n",
       "      <td>11</td>\n",
       "      <td>...</td>\n",
       "      <td>True</td>\n",
       "      <td>True</td>\n",
       "      <td>False</td>\n",
       "      <td>False</td>\n",
       "      <td>False</td>\n",
       "      <td>0</td>\n",
       "      <td>1</td>\n",
       "      <td>2015-04-07T20:01:55Z</td>\n",
       "      <td>1.428437e+09</td>\n",
       "      <td>550c8310066ea13f808b4b35</td>\n",
       "    </tr>\n",
       "    <tr>\n",
       "      <th>9</th>\n",
       "      <td>9</td>\n",
       "      <td>F</td>\n",
       "      <td>M</td>\n",
       "      <td>24</td>\n",
       "      <td>0.81</td>\n",
       "      <td>1</td>\n",
       "      <td>5979</td>\n",
       "      <td>147</td>\n",
       "      <td>1</td>\n",
       "      <td>2</td>\n",
       "      <td>...</td>\n",
       "      <td>True</td>\n",
       "      <td>True</td>\n",
       "      <td>False</td>\n",
       "      <td>False</td>\n",
       "      <td>False</td>\n",
       "      <td>0</td>\n",
       "      <td>1</td>\n",
       "      <td>2015-04-06T16:10:49Z</td>\n",
       "      <td>1.428337e+09</td>\n",
       "      <td>53745af3150ba023158b4588</td>\n",
       "    </tr>\n",
       "  </tbody>\n",
       "</table>\n",
       "<p>10 rows × 36 columns</p>\n",
       "</div>"
      ],
      "text/plain": [
       "   Unnamed: 0 gender genderLooking  age  counts_details  counts_pictures  \\\n",
       "0           0      F             M   25            1.00                4   \n",
       "1           1      F             M   22            0.85                5   \n",
       "2           2      F             M   21            0.00                4   \n",
       "3           3      F          none   20            0.12                3   \n",
       "4           4      F             M   21            0.15               12   \n",
       "5           5      F             M   24            0.81               18   \n",
       "6           6      F          none   24            0.65               13   \n",
       "7           7      F             M   23            0.81                6   \n",
       "8           8      F             M   20            0.88               14   \n",
       "9           9      F             M   24            0.81                1   \n",
       "\n",
       "   counts_profileVisits  counts_kisses  counts_fans  counts_g  ...  lang_en  \\\n",
       "0                  8279            239            0         3  ...    False   \n",
       "1                   663             13            0         0  ...    False   \n",
       "2                  1369             88            0         2  ...    False   \n",
       "3                 22187           1015            2         3  ...     True   \n",
       "4                 35262           1413            9        12  ...    False   \n",
       "5                  7339            180            0         2  ...     True   \n",
       "6                 18672            492            0         1  ...     True   \n",
       "7                 19091           1348            0        20  ...     True   \n",
       "8                 29984           2389           10        11  ...     True   \n",
       "9                  5979            147            1         2  ...     True   \n",
       "\n",
       "   lang_de  lang_it lang_es lang_pt verified  shareProfileEnabled  \\\n",
       "0     True    False   False   False        0                    1   \n",
       "1     True     True   False   False        0                    1   \n",
       "2    False    False   False   False        0                    1   \n",
       "3    False    False   False   False        0                    1   \n",
       "4     True    False   False   False        0                    1   \n",
       "5     True    False   False   False        0                    1   \n",
       "6     True    False   False   False        0                    1   \n",
       "7     True    False   False   False        0                    0   \n",
       "8     True    False   False   False        0                    1   \n",
       "9     True    False   False   False        0                    1   \n",
       "\n",
       "         lastOnlineDate  lastOnlineTime                    userId  \n",
       "0  2015-04-25T20:43:26Z    1.429995e+09  55303fc3160ba0eb728b4575  \n",
       "1  2015-04-26T09:19:35Z    1.430040e+09  552e7b61c66da10d1e8b4c82  \n",
       "2  2015-04-06T14:24:07Z    1.428330e+09  54a584ecc56da128638b4674  \n",
       "3  2015-04-07T11:21:01Z    1.428406e+09  54c92738076ea1b5338b4735  \n",
       "4  2015-04-06T14:25:20Z    1.428330e+09  54e1a6f6c76da135748b4a3a  \n",
       "5  2015-04-08T14:37:51Z    1.428504e+09  54f2b4ce0b6ea1177e8b4d18  \n",
       "6  2015-04-27T19:29:58Z    1.430163e+09  54ecbb39170ba08b488b4aa5  \n",
       "7  2015-04-08T14:18:11Z    1.428503e+09  54fc1786170ba041758b4577  \n",
       "8  2015-04-07T20:01:55Z    1.428437e+09  550c8310066ea13f808b4b35  \n",
       "9  2015-04-06T16:10:49Z    1.428337e+09  53745af3150ba023158b4588  \n",
       "\n",
       "[10 rows x 36 columns]"
      ]
     },
     "execution_count": 4,
     "metadata": {},
     "output_type": "execute_result"
    }
   ],
   "source": [
    "#viewing set\n",
    "df.head(10)"
   ]
  },
  {
   "cell_type": "code",
   "execution_count": 5,
   "id": "1b2c17ac",
   "metadata": {},
   "outputs": [
    {
     "data": {
      "text/plain": [
       "Index(['Unnamed: 0', 'gender', 'genderLooking', 'age', 'counts_details',\n",
       "       'counts_pictures', 'counts_profileVisits', 'counts_kisses',\n",
       "       'counts_fans', 'counts_g', 'flirtInterests_chat',\n",
       "       'flirtInterests_friends', 'flirtInterests_date', 'country', 'city',\n",
       "       'location', 'distance', 'isFlirtstar', 'isHighlighted', 'isInfluencer',\n",
       "       'isMobile', 'isNew', 'isOnline', 'isVip', 'lang_count', 'lang_fr',\n",
       "       'lang_en', 'lang_de', 'lang_it', 'lang_es', 'lang_pt', 'verified',\n",
       "       'shareProfileEnabled', 'lastOnlineDate', 'lastOnlineTime', 'userId'],\n",
       "      dtype='object')"
      ]
     },
     "execution_count": 5,
     "metadata": {},
     "output_type": "execute_result"
    }
   ],
   "source": [
    "#viewing all columns\n",
    "df.columns"
   ]
  },
  {
   "cell_type": "code",
   "execution_count": 21,
   "id": "66688cbe",
   "metadata": {},
   "outputs": [],
   "source": [
    "#removing unneeded columns\n",
    "df2=df.drop(columns=['Unnamed: 0','counts_details','shareProfileEnabled','counts_g'])"
   ]
  },
  {
   "cell_type": "code",
   "execution_count": 22,
   "id": "2a169905",
   "metadata": {},
   "outputs": [],
   "source": [
    "#renaming certain columns to be intuitive\n",
    "df2.rename(columns={'gender':'Gender','genderLooking':'Seeking','age':'Age','counts_pictures':'Pictures','counts_profileVisits':'Profile Visits','counts_kisses':'Kisses','counts_fans':'Fans','country':'Country','city':'City','location':'Location','verified':'Verified','userId':'User ID'},inplace=True)"
   ]
  },
  {
   "cell_type": "code",
   "execution_count": 16,
   "id": "9e5752a1",
   "metadata": {},
   "outputs": [
    {
     "data": {
      "text/plain": [
       "Gender                    0\n",
       "Seeking                   0\n",
       "Age                       0\n",
       "Pictures                  0\n",
       "Profile Visits            0\n",
       "Kisses                    0\n",
       "Fans                      0\n",
       "flirtInterests_chat       0\n",
       "flirtInterests_friends    0\n",
       "flirtInterests_date       0\n",
       "Country                   0\n",
       "City                      0\n",
       "Location                  0\n",
       "distance                  0\n",
       "isFlirtstar               0\n",
       "isHighlighted             0\n",
       "isInfluencer              0\n",
       "isMobile                  0\n",
       "isNew                     0\n",
       "isOnline                  0\n",
       "isVip                     0\n",
       "lang_count                0\n",
       "lang_fr                   0\n",
       "lang_en                   0\n",
       "lang_de                   0\n",
       "lang_it                   0\n",
       "lang_es                   0\n",
       "lang_pt                   0\n",
       "Verified                  0\n",
       "lastOnlineDate            0\n",
       "lastOnlineTime            0\n",
       "User ID                   0\n",
       "dtype: int64"
      ]
     },
     "execution_count": 16,
     "metadata": {},
     "output_type": "execute_result"
    }
   ],
   "source": [
    "#checking for missing values\n",
    "df2.isnull().sum()"
   ]
  },
  {
   "cell_type": "markdown",
   "id": "d747499d",
   "metadata": {},
   "source": [
    "#### No missing values, celebration time come on!"
   ]
  },
  {
   "cell_type": "code",
   "execution_count": 9,
   "id": "c1852238",
   "metadata": {},
   "outputs": [],
   "source": [
    "#checking for duplicate values\n",
    "dups=df2.duplicated()"
   ]
  },
  {
   "cell_type": "code",
   "execution_count": 10,
   "id": "84034469",
   "metadata": {},
   "outputs": [
    {
     "data": {
      "text/plain": [
       "(3572,)"
      ]
     },
     "execution_count": 10,
     "metadata": {},
     "output_type": "execute_result"
    }
   ],
   "source": [
    "#viewing dupe dataframe\n",
    "dups.shape"
   ]
  },
  {
   "cell_type": "markdown",
   "id": "9193a8a7",
   "metadata": {},
   "source": [
    "#### No duplicate values found! More celebrating!"
   ]
  },
  {
   "cell_type": "code",
   "execution_count": 23,
   "id": "7ea159bd",
   "metadata": {},
   "outputs": [],
   "source": [
    "#saving a version of this clean dataset\n",
    "df2.to_csv(os.path.join(r'C:\\Users\\Samth\\CareerFoundry Projects\\Achievement 6\\1 Data\\Manipulated Data\\userapi_manipulated_titles.csv'))"
   ]
  },
  {
   "cell_type": "markdown",
   "id": "4e5a9b83",
   "metadata": {},
   "source": [
    "# 3 Data Wrangling and Exploration"
   ]
  },
  {
   "cell_type": "markdown",
   "id": "3b95f75e",
   "metadata": {},
   "source": [
    "### In this section of the notebook I will be creating various scatterplots to understand different variables and their possible relationships in the data frame. I will ideally explort the relationship between pictures and profile visits, kisses and pictures, kisses and fans, and create a new variable 'Under 25' and compare this against Kisses and Profile Visits"
   ]
  },
  {
   "cell_type": "code",
   "execution_count": 24,
   "id": "2a7b73d0",
   "metadata": {
    "scrolled": true
   },
   "outputs": [
    {
     "data": {
      "text/plain": [
       "Index(['Gender', 'Seeking', 'Age', 'Pictures', 'Profile Visits', 'Kisses',\n",
       "       'Fans', 'flirtInterests_chat', 'flirtInterests_friends',\n",
       "       'flirtInterests_date', 'Country', 'City', 'Location', 'distance',\n",
       "       'isFlirtstar', 'isHighlighted', 'isInfluencer', 'isMobile', 'isNew',\n",
       "       'isOnline', 'isVip', 'lang_count', 'lang_fr', 'lang_en', 'lang_de',\n",
       "       'lang_it', 'lang_es', 'lang_pt', 'Verified', 'lastOnlineDate',\n",
       "       'lastOnlineTime', 'User ID'],\n",
       "      dtype='object')"
      ]
     },
     "execution_count": 24,
     "metadata": {},
     "output_type": "execute_result"
    }
   ],
   "source": [
    "#viewing columns\n",
    "df2.columns"
   ]
  },
  {
   "cell_type": "code",
   "execution_count": 25,
   "id": "9912d0ea",
   "metadata": {},
   "outputs": [],
   "source": [
    "#creating new variable\n",
    "df2.loc[df2['Age'] >= 25, 'Under 25']= '0'"
   ]
  },
  {
   "cell_type": "code",
   "execution_count": 26,
   "id": "4da8a2e3",
   "metadata": {},
   "outputs": [],
   "source": [
    "df2.loc[df2['Age'] < 25, 'Under 25']= '1'"
   ]
  },
  {
   "cell_type": "code",
   "execution_count": 27,
   "id": "6fa3e6d1",
   "metadata": {},
   "outputs": [
    {
     "data": {
      "text/plain": [
       "Under 25\n",
       "1    3146\n",
       "0     426\n",
       "Name: count, dtype: int64"
      ]
     },
     "execution_count": 27,
     "metadata": {},
     "output_type": "execute_result"
    }
   ],
   "source": [
    "df2['Under 25'].value_counts(dropna=False)"
   ]
  },
  {
   "cell_type": "code",
   "execution_count": 28,
   "id": "79c5ad52",
   "metadata": {},
   "outputs": [],
   "source": [
    "#saving dataset with new variable column\n",
    "df2.to_csv(os.path.join(r'C:\\Users\\Samth\\CareerFoundry Projects\\Achievement 6\\1 Data\\Manipulated Data\\userapi_wrangledw_titles.csv'))"
   ]
  },
  {
   "cell_type": "markdown",
   "id": "411018b8",
   "metadata": {},
   "source": [
    "#### This new columns where 0 is False and 1 is True, shows us that 3146 users are under 25 years old, where as only 426 users are 25 and older, this means that our app has a larger demographic of younger woman than older woman"
   ]
  },
  {
   "cell_type": "markdown",
   "id": "d0d3e9f4",
   "metadata": {},
   "source": [
    "### 3a Creating our various visualizations"
   ]
  },
  {
   "cell_type": "code",
   "execution_count": 46,
   "id": "4bed7a8c",
   "metadata": {
    "scrolled": true
   },
   "outputs": [
    {
     "data": {
      "image/png": "[encoded data removed]",
      "text/plain": [
       "<Figure size 640x480 with 1 Axes>"
      ]
     },
     "metadata": {},
     "output_type": "display_data"
    }
   ],
   "source": [
    "#scatterplot between pictures and profile visits\n",
    "picpro=sns.scatterplot(x='Kisses',y='Profile Visits',data=df2)"
   ]
  },
  {
   "cell_type": "markdown",
   "id": "3ab3199d",
   "metadata": {},
   "source": [
    "This scatterplot shows that the amount of pictures a user has on their profile has a strong positive diagonal correlation, and there is a pattern between the amount of photos and kisses"
   ]
  },
  {
   "cell_type": "code",
   "execution_count": 51,
   "id": "96c41136",
   "metadata": {
    "scrolled": true
   },
   "outputs": [
    {
     "data": {
      "image/png": "[encoded data removed]",
      "text/plain": [
       "<Figure size 640x480 with 1 Axes>"
      ]
     },
     "metadata": {},
     "output_type": "display_data"
    }
   ],
   "source": [
    "#visual for kisses and pictures\n",
    "kispic=sns.scatterplot(x='Kisses',y='Pictures',data=df2)"
   ]
  },
  {
   "cell_type": "markdown",
   "id": "dd0e6f14",
   "metadata": {},
   "source": [
    "This scatterplot shows that there is no correlation between how many pictures and kisses a user will receive"
   ]
  },
  {
   "cell_type": "code",
   "execution_count": 50,
   "id": "b04aad27",
   "metadata": {},
   "outputs": [
    {
     "data": {
      "image/png": "[encoded data removed]",
      "text/plain": [
       "<Figure size 640x480 with 1 Axes>"
      ]
     },
     "metadata": {},
     "output_type": "display_data"
    }
   ],
   "source": [
    "#visual for kisses and fans \n",
    "kisfan=sns.scatterplot(x='Kisses',y='Fans',data=df2)"
   ]
  },
  {
   "cell_type": "markdown",
   "id": "6030e665",
   "metadata": {},
   "source": [
    "This scatterplot shows that there is no direct correlation between kisses and fans, as some users have few kisses but many fans(followers) and vice versa"
   ]
  },
  {
   "cell_type": "code",
   "execution_count": 59,
   "id": "fcf6e856",
   "metadata": {},
   "outputs": [
    {
     "data": {
      "image/png": "[encoded data removed]",
      "text/plain": [
       "<Figure size 640x480 with 1 Axes>"
      ]
     },
     "metadata": {},
     "output_type": "display_data"
    }
   ],
   "source": [
    "#visuals for kisses and under 25\n",
    "kisage=sns.scatterplot(x='Kisses',y='Under 25',data=df2)"
   ]
  },
  {
   "cell_type": "code",
   "execution_count": 60,
   "id": "3aafd47b",
   "metadata": {},
   "outputs": [
    {
     "data": {
      "image/png": "[encoded data removed]",
      "text/plain": [
       "<Figure size 640x480 with 1 Axes>"
      ]
     },
     "metadata": {},
     "output_type": "display_data"
    }
   ],
   "source": [
    "#visual for profile visits and under 25\n",
    "proage=sns.scatterplot(x='Profile Visits',y='Under 25',data=df2)"
   ]
  },
  {
   "cell_type": "markdown",
   "id": "1c6a7cfe",
   "metadata": {},
   "source": [
    "On both ends of the age spectrum, it's clear that due to the higher proportion of younger woman, younger woman are more likely to have more profile visits and more likes than older woman"
   ]
  },
  {
   "cell_type": "markdown",
   "id": "8a394a00",
   "metadata": {},
   "source": [
    "#### We now are able to answer one of our hypothesis questions \"Do younger woman receive more like or profile visits than older woman?\" The answer is yes, but this is not an accurate representation as younger woman make up a majority of the user database"
   ]
  },
  {
   "cell_type": "markdown",
   "id": "8b3744fa",
   "metadata": {},
   "source": [
    "# 4 Machine Learning and Regression"
   ]
  },
  {
   "cell_type": "code",
   "execution_count": 62,
   "id": "b676e2dc",
   "metadata": {},
   "outputs": [],
   "source": [
    "#reshaping variables Kisses and Profile Visits\n",
    "X = df2['Profile Visits'].values.reshape(-1,1)\n",
    "y = df2['Kisses'].values.reshape(-1,1)"
   ]
  },
  {
   "cell_type": "code",
   "execution_count": 63,
   "id": "bb186e8a",
   "metadata": {},
   "outputs": [
    {
     "data": {
      "text/plain": [
       "array([[8279],\n",
       "       [ 663],\n",
       "       [1369],\n",
       "       ...,\n",
       "       [  31],\n",
       "       [   3],\n",
       "       [  54]], dtype=int64)"
      ]
     },
     "execution_count": 63,
     "metadata": {},
     "output_type": "execute_result"
    }
   ],
   "source": [
    "#viewing independent variable\n",
    "X"
   ]
  },
  {
   "cell_type": "code",
   "execution_count": 64,
   "id": "4b73f104",
   "metadata": {},
   "outputs": [
    {
     "data": {
      "text/plain": [
       "array([[239],\n",
       "       [ 13],\n",
       "       [ 88],\n",
       "       ...,\n",
       "       [  0],\n",
       "       [  0],\n",
       "       [  0]], dtype=int64)"
      ]
     },
     "execution_count": 64,
     "metadata": {},
     "output_type": "execute_result"
    }
   ],
   "source": [
    "#viewing dependent variable\n",
    "y"
   ]
  },
  {
   "cell_type": "code",
   "execution_count": 65,
   "id": "74f65bda",
   "metadata": {},
   "outputs": [],
   "source": [
    "#splitting dataset\n",
    "X_train, X_test, y_train, y_test = train_test_split(X, y, test_size=0.4, random_state=0)"
   ]
  },
  {
   "cell_type": "code",
   "execution_count": 66,
   "id": "7a69531c",
   "metadata": {},
   "outputs": [],
   "source": [
    "#creating regression object\n",
    "regression= LinearRegression()"
   ]
  },
  {
   "cell_type": "code",
   "execution_count": 67,
   "id": "d423aa6f",
   "metadata": {},
   "outputs": [
    {
     "data": {
      "text/html": [
       "<style>#sk-container-id-1 {color: black;}#sk-container-id-1 pre{padding: 0;}#sk-container-id-1 div.sk-toggleable {background-color: white;}#sk-container-id-1 label.sk-toggleable__label {cursor: pointer;display: block;width: 100%;margin-bottom: 0;padding: 0.3em;box-sizing: border-box;text-align: center;}#sk-container-id-1 label.sk-toggleable__label-arrow:before {content: \"▸\";float: left;margin-right: 0.25em;color: #696969;}#sk-container-id-1 label.sk-toggleable__label-arrow:hover:before {color: black;}#sk-container-id-1 div.sk-estimator:hover label.sk-toggleable__label-arrow:before {color: black;}#sk-container-id-1 div.sk-toggleable__content {max-height: 0;max-width: 0;overflow: hidden;text-align: left;background-color: #f0f8ff;}#sk-container-id-1 div.sk-toggleable__content pre {margin: 0.2em;color: black;border-radius: 0.25em;background-color: #f0f8ff;}#sk-container-id-1 input.sk-toggleable__control:checked~div.sk-toggleable__content {max-height: 200px;max-width: 100%;overflow: auto;}#sk-container-id-1 input.sk-toggleable__control:checked~label.sk-toggleable__label-arrow:before {content: \"▾\";}#sk-container-id-1 div.sk-estimator input.sk-toggleable__control:checked~label.sk-toggleable__label {background-color: #d4ebff;}#sk-container-id-1 div.sk-label input.sk-toggleable__control:checked~label.sk-toggleable__label {background-color: #d4ebff;}#sk-container-id-1 input.sk-hidden--visually {border: 0;clip: rect(1px 1px 1px 1px);clip: rect(1px, 1px, 1px, 1px);height: 1px;margin: -1px;overflow: hidden;padding: 0;position: absolute;width: 1px;}#sk-container-id-1 div.sk-estimator {font-family: monospace;background-color: #f0f8ff;border: 1px dotted black;border-radius: 0.25em;box-sizing: border-box;margin-bottom: 0.5em;}#sk-container-id-1 div.sk-estimator:hover {background-color: #d4ebff;}#sk-container-id-1 div.sk-parallel-item::after {content: \"\";width: 100%;border-bottom: 1px solid gray;flex-grow: 1;}#sk-container-id-1 div.sk-label:hover label.sk-toggleable__label {background-color: #d4ebff;}#sk-container-id-1 div.sk-serial::before {content: \"\";position: absolute;border-left: 1px solid gray;box-sizing: border-box;top: 0;bottom: 0;left: 50%;z-index: 0;}#sk-container-id-1 div.sk-serial {display: flex;flex-direction: column;align-items: center;background-color: white;padding-right: 0.2em;padding-left: 0.2em;position: relative;}#sk-container-id-1 div.sk-item {position: relative;z-index: 1;}#sk-container-id-1 div.sk-parallel {display: flex;align-items: stretch;justify-content: center;background-color: white;position: relative;}#sk-container-id-1 div.sk-item::before, #sk-container-id-1 div.sk-parallel-item::before {content: \"\";position: absolute;border-left: 1px solid gray;box-sizing: border-box;top: 0;bottom: 0;left: 50%;z-index: -1;}#sk-container-id-1 div.sk-parallel-item {display: flex;flex-direction: column;z-index: 1;position: relative;background-color: white;}#sk-container-id-1 div.sk-parallel-item:first-child::after {align-self: flex-end;width: 50%;}#sk-container-id-1 div.sk-parallel-item:last-child::after {align-self: flex-start;width: 50%;}#sk-container-id-1 div.sk-parallel-item:only-child::after {width: 0;}#sk-container-id-1 div.sk-dashed-wrapped {border: 1px dashed gray;margin: 0 0.4em 0.5em 0.4em;box-sizing: border-box;padding-bottom: 0.4em;background-color: white;}#sk-container-id-1 div.sk-label label {font-family: monospace;font-weight: bold;display: inline-block;line-height: 1.2em;}#sk-container-id-1 div.sk-label-container {text-align: center;}#sk-container-id-1 div.sk-container {/* jupyter's `normalize.less` sets `[hidden] { display: none; }` but bootstrap.min.css set `[hidden] { display: none !important; }` so we also need the `!important` here to be able to override the default hidden behavior on the sphinx rendered scikit-learn.org. See: https://github.com/scikit-learn/scikit-learn/issues/21755 */display: inline-block !important;position: relative;}#sk-container-id-1 div.sk-text-repr-fallback {display: none;}</style><div id=\"sk-container-id-1\" class=\"sk-top-container\"><div class=\"sk-text-repr-fallback\"><pre>LinearRegression()</pre><b>In a Jupyter environment, please rerun this cell to show the HTML representation or trust the notebook. <br />On GitHub, the HTML representation is unable to render, please try loading this page with nbviewer.org.</b></div><div class=\"sk-container\" hidden><div class=\"sk-item\"><div class=\"sk-estimator sk-toggleable\"><input class=\"sk-toggleable__control sk-hidden--visually\" id=\"sk-estimator-id-1\" type=\"checkbox\" checked><label for=\"sk-estimator-id-1\" class=\"sk-toggleable__label sk-toggleable__label-arrow\">LinearRegression</label><div class=\"sk-toggleable__content\"><pre>LinearRegression()</pre></div></div></div></div></div>"
      ],
      "text/plain": [
       "LinearRegression()"
      ]
     },
     "execution_count": 67,
     "metadata": {},
     "output_type": "execute_result"
    }
   ],
   "source": [
    "#fitting regression to training set size 60%\n",
    "regression.fit(X_train,y_train)"
   ]
  },
  {
   "cell_type": "code",
   "execution_count": 68,
   "id": "3e87f5a0",
   "metadata": {},
   "outputs": [],
   "source": [
    "#predicting dependent values\n",
    "yprediction=regression.predict(X_test)"
   ]
  },
  {
   "cell_type": "code",
   "execution_count": 71,
   "id": "7d9d7f57",
   "metadata": {},
   "outputs": [
    {
     "data": {
      "image/png": "[encoded data removed]",
      "text/plain": [
       "<Figure size 640x480 with 1 Axes>"
      ]
     },
     "metadata": {},
     "output_type": "display_data"
    }
   ],
   "source": [
    "#creating plot\n",
    "testplot = plt\n",
    "testplot.scatter(X_test, y_test, color='red', s = 15)\n",
    "testplot.plot(X_test, yprediction, color='black', linewidth =1.5)\n",
    "testplot.title('Profile Visits vs Kisses(Test set)')\n",
    "testplot.xlabel('Kisses per User')\n",
    "testplot.ylabel('Maximum Profile Visits')\n",
    "testplot.show()"
   ]
  },
  {
   "cell_type": "markdown",
   "id": "d2af7d8d",
   "metadata": {},
   "source": [
    "The line fits the data generally well, the data is clusted towards the base and there are outlier values for users who have kisses over 30,000. The line is a positive linear line"
   ]
  },
  {
   "cell_type": "code",
   "execution_count": 72,
   "id": "80554085",
   "metadata": {},
   "outputs": [],
   "source": [
    "#identify model summary statistics\n",
    "meansquare=mean_squared_error(y_test,yprediction)\n",
    "r2=r2_score(y_test,yprediction)"
   ]
  },
  {
   "cell_type": "code",
   "execution_count": 73,
   "id": "204eee67",
   "metadata": {},
   "outputs": [
    {
     "name": "stdout",
     "output_type": "stream",
     "text": [
      "Slope: [[0.04957491]]\n",
      "Mean squared error:  41271.489317470194\n",
      "R2 score:  0.7166027940385484\n"
     ]
    }
   ],
   "source": [
    "#print summary\n",
    "print('Slope:' ,regression.coef_)\n",
    "print('Mean squared error: ', meansquare)\n",
    "print('R2 score: ', r2)"
   ]
  },
  {
   "cell_type": "markdown",
   "id": "c8d4a948",
   "metadata": {},
   "source": [
    "Our R2 score value shows us that there is a high significance that our regression model can explain the variance in the Profile Visits users receive"
   ]
  },
  {
   "cell_type": "code",
   "execution_count": 74,
   "id": "e09d5957",
   "metadata": {},
   "outputs": [
    {
     "name": "stdout",
     "output_type": "stream",
     "text": [
      "[[ 90.25340467]\n",
      " [-24.71081796]\n",
      " [ 64.82147444]\n",
      " ...\n",
      " [  5.77775337]\n",
      " [-27.78446255]\n",
      " [-13.90348698]]\n"
     ]
    }
   ],
   "source": [
    "#view y \n",
    "print(yprediction)"
   ]
  },
  {
   "cell_type": "code",
   "execution_count": 75,
   "id": "24e29054",
   "metadata": {},
   "outputs": [],
   "source": [
    "#dataframe for prediction values\n",
    "predictdf = pd.DataFrame({'Actual': y_test.flatten(), 'Predicted': yprediction.flatten()})"
   ]
  },
  {
   "cell_type": "code",
   "execution_count": 77,
   "id": "9933e7aa",
   "metadata": {},
   "outputs": [
    {
     "data": {
      "text/html": [
       "<div>\n",
       "<style scoped>\n",
       "    .dataframe tbody tr th:only-of-type {\n",
       "        vertical-align: middle;\n",
       "    }\n",
       "\n",
       "    .dataframe tbody tr th {\n",
       "        vertical-align: top;\n",
       "    }\n",
       "\n",
       "    .dataframe thead th {\n",
       "        text-align: right;\n",
       "    }\n",
       "</style>\n",
       "<table border=\"1\" class=\"dataframe\">\n",
       "  <thead>\n",
       "    <tr style=\"text-align: right;\">\n",
       "      <th></th>\n",
       "      <th>Actual</th>\n",
       "      <th>Predicted</th>\n",
       "    </tr>\n",
       "  </thead>\n",
       "  <tbody>\n",
       "    <tr>\n",
       "      <th>0</th>\n",
       "      <td>49</td>\n",
       "      <td>90.253405</td>\n",
       "    </tr>\n",
       "    <tr>\n",
       "      <th>1</th>\n",
       "      <td>4</td>\n",
       "      <td>-24.710818</td>\n",
       "    </tr>\n",
       "    <tr>\n",
       "      <th>2</th>\n",
       "      <td>97</td>\n",
       "      <td>64.821474</td>\n",
       "    </tr>\n",
       "    <tr>\n",
       "      <th>3</th>\n",
       "      <td>189</td>\n",
       "      <td>351.810644</td>\n",
       "    </tr>\n",
       "    <tr>\n",
       "      <th>4</th>\n",
       "      <td>36</td>\n",
       "      <td>-1.113159</td>\n",
       "    </tr>\n",
       "  </tbody>\n",
       "</table>\n",
       "</div>"
      ],
      "text/plain": [
       "   Actual   Predicted\n",
       "0      49   90.253405\n",
       "1       4  -24.710818\n",
       "2      97   64.821474\n",
       "3     189  351.810644\n",
       "4      36   -1.113159"
      ]
     },
     "execution_count": 77,
     "metadata": {},
     "output_type": "execute_result"
    }
   ],
   "source": [
    "predictdf.head()"
   ]
  },
  {
   "cell_type": "markdown",
   "id": "0a2f4cb0",
   "metadata": {},
   "source": [
    "This shows that our test set does not fit, it does not accurately predict the actual values"
   ]
  },
  {
   "cell_type": "markdown",
   "id": "e9fe6311",
   "metadata": {},
   "source": [
    "#### testing on the training set"
   ]
  },
  {
   "cell_type": "code",
   "execution_count": 80,
   "id": "e6d16037",
   "metadata": {},
   "outputs": [],
   "source": [
    "#creating prediction for training set\n",
    "ytrainprediction=regression.predict(X_train)"
   ]
  },
  {
   "cell_type": "code",
   "execution_count": 83,
   "id": "679cb24c",
   "metadata": {},
   "outputs": [],
   "source": [
    "meansquaretrain= mean_squared_error(y_train,ytrainprediction)\n",
    "r2= r2_score(y_train,ytrainprediction)"
   ]
  },
  {
   "cell_type": "code",
   "execution_count": 84,
   "id": "d70cecdb",
   "metadata": {},
   "outputs": [
    {
     "name": "stdout",
     "output_type": "stream",
     "text": [
      "Slope: [[0.04957491]]\n",
      "Mean squared error:  28225.635455845957\n",
      "R2 score:  0.8237025156287496\n"
     ]
    }
   ],
   "source": [
    "#view and printing values\n",
    "print('Slope:' ,regression.coef_)\n",
    "print('Mean squared error: ', meansquaretrain)\n",
    "print('R2 score: ', r2)"
   ]
  },
  {
   "cell_type": "markdown",
   "id": "aa386a0d",
   "metadata": {},
   "source": [
    "Our R coefficient is high which is still a good sign"
   ]
  },
  {
   "cell_type": "code",
   "execution_count": 87,
   "id": "4559105a",
   "metadata": {},
   "outputs": [
    {
     "data": {
      "image/png": "[encoded data removed]",
      "text/plain": [
       "<Figure size 640x480 with 1 Axes>"
      ]
     },
     "metadata": {},
     "output_type": "display_data"
    }
   ],
   "source": [
    "# Visualizing the training set results.\n",
    "\n",
    "trainplot = plt\n",
    "trainplot.scatter(X_train, y_train, color='pink', s = 15)\n",
    "trainplot.plot(X_train, ytrainprediction, color='red', linewidth =1.5)\n",
    "trainplot.title('Profile Visits vs Kisses (Train set)')\n",
    "trainplot.xlabel('Kisses per User')\n",
    "trainplot.ylabel('Maximum Profile Visits')\n",
    "trainplot.show()"
   ]
  },
  {
   "cell_type": "markdown",
   "id": "daa65005",
   "metadata": {},
   "source": [
    "The graph still demonstrates a strong linear relationship between profile visits and kisses"
   ]
  },
  {
   "cell_type": "code",
   "execution_count": 88,
   "id": "a9889d2e",
   "metadata": {},
   "outputs": [],
   "source": [
    "#dataframe for train values\n",
    "traindf = pd.DataFrame({'Actual': y_train.flatten(), 'Predicted': ytrainprediction.flatten()})"
   ]
  },
  {
   "cell_type": "code",
   "execution_count": 92,
   "id": "03a00273",
   "metadata": {},
   "outputs": [
    {
     "data": {
      "text/html": [
       "<div>\n",
       "<style scoped>\n",
       "    .dataframe tbody tr th:only-of-type {\n",
       "        vertical-align: middle;\n",
       "    }\n",
       "\n",
       "    .dataframe tbody tr th {\n",
       "        vertical-align: top;\n",
       "    }\n",
       "\n",
       "    .dataframe thead th {\n",
       "        text-align: right;\n",
       "    }\n",
       "</style>\n",
       "<table border=\"1\" class=\"dataframe\">\n",
       "  <thead>\n",
       "    <tr style=\"text-align: right;\">\n",
       "      <th></th>\n",
       "      <th>Actual</th>\n",
       "      <th>Predicted</th>\n",
       "    </tr>\n",
       "  </thead>\n",
       "  <tbody>\n",
       "    <tr>\n",
       "      <th>0</th>\n",
       "      <td>90</td>\n",
       "      <td>315.026059</td>\n",
       "    </tr>\n",
       "    <tr>\n",
       "      <th>1</th>\n",
       "      <td>0</td>\n",
       "      <td>-20.695250</td>\n",
       "    </tr>\n",
       "    <tr>\n",
       "      <th>2</th>\n",
       "      <td>12</td>\n",
       "      <td>-18.910553</td>\n",
       "    </tr>\n",
       "    <tr>\n",
       "      <th>3</th>\n",
       "      <td>19</td>\n",
       "      <td>7.959050</td>\n",
       "    </tr>\n",
       "    <tr>\n",
       "      <th>4</th>\n",
       "      <td>41</td>\n",
       "      <td>65.961697</td>\n",
       "    </tr>\n",
       "  </tbody>\n",
       "</table>\n",
       "</div>"
      ],
      "text/plain": [
       "   Actual   Predicted\n",
       "0      90  315.026059\n",
       "1       0  -20.695250\n",
       "2      12  -18.910553\n",
       "3      19    7.959050\n",
       "4      41   65.961697"
      ]
     },
     "execution_count": 92,
     "metadata": {},
     "output_type": "execute_result"
    }
   ],
   "source": [
    "#viewing values\n",
    "traindf.head()"
   ]
  },
  {
   "cell_type": "markdown",
   "id": "8fe755a6",
   "metadata": {},
   "source": [
    "Our predictions and the actual values are still very far off from each other.."
   ]
  },
  {
   "cell_type": "markdown",
   "id": "151c8ea1",
   "metadata": {},
   "source": [
    "# 5 Exporting all visuals"
   ]
  },
  {
   "cell_type": "code",
   "execution_count": 96,
   "id": "2149fe14",
   "metadata": {},
   "outputs": [],
   "source": [
    "#saving visuals\n",
    "picpro.figure.savefig(os.path.join(r'C:\\Users\\Samth\\CareerFoundry Projects\\Achievement 6\\3 Visualizations\\'Picture_Profile_Scatter.png'))"
   ]
  },
  {
   "cell_type": "code",
   "execution_count": 97,
   "id": "ee6ed552",
   "metadata": {},
   "outputs": [],
   "source": [
    "kispic.figure.savefig(os.path.join(r'C:\\Users\\Samth\\CareerFoundry Projects\\Achievement 6\\3 Visualizations\\'Kisses_Pictures_Scatter.png'))"
   ]
  },
  {
   "cell_type": "code",
   "execution_count": 98,
   "id": "2265ec65",
   "metadata": {},
   "outputs": [],
   "source": [
    "kisfan.figure.savefig(os.path.join(r'C:\\Users\\Samth\\CareerFoundry Projects\\Achievement 6\\3 Visualizations\\'Kisses_Fans_Scatter.png'))"
   ]
  },
  {
   "cell_type": "code",
   "execution_count": 99,
   "id": "35d5db00",
   "metadata": {},
   "outputs": [],
   "source": [
    "kisage.figure.savefig(os.path.join(r'C:\\Users\\Samth\\CareerFoundry Projects\\Achievement 6\\3 Visualizations\\'Kisses_Age_Scatter.png'))"
   ]
  },
  {
   "cell_type": "code",
   "execution_count": 100,
   "id": "c01936c2",
   "metadata": {},
   "outputs": [],
   "source": [
    "proage.figure.savefig(os.path.join(r'C:\\Users\\Samth\\CareerFoundry Projects\\Achievement 6\\3 Visualizations\\'Profile_Age_Scatter.png'))"
   ]
  },
  {
   "cell_type": "code",
   "execution_count": 101,
   "id": "f232a9e3",
   "metadata": {},
   "outputs": [
    {
     "ename": "AttributeError",
     "evalue": "'function' object has no attribute 'savefig'",
     "output_type": "error",
     "traceback": [
      "\u001b[1;31m---------------------------------------------------------------------------\u001b[0m",
      "\u001b[1;31mAttributeError\u001b[0m                            Traceback (most recent call last)",
      "Cell \u001b[1;32mIn[101], line 1\u001b[0m\n\u001b[1;32m----> 1\u001b[0m testplot\u001b[38;5;241m.\u001b[39mfigure\u001b[38;5;241m.\u001b[39msavefig(os\u001b[38;5;241m.\u001b[39mpath\u001b[38;5;241m.\u001b[39mjoin(\u001b[38;5;124mr\u001b[39m\u001b[38;5;124m'\u001b[39m\u001b[38;5;124mC:\u001b[39m\u001b[38;5;124m\\\u001b[39m\u001b[38;5;124mUsers\u001b[39m\u001b[38;5;124m\\\u001b[39m\u001b[38;5;124mSamth\u001b[39m\u001b[38;5;124m\\\u001b[39m\u001b[38;5;124mCareerFoundry Projects\u001b[39m\u001b[38;5;124m\\\u001b[39m\u001b[38;5;124mAchievement 6\u001b[39m\u001b[38;5;124m\\\u001b[39m\u001b[38;5;124m3 Visualizations\u001b[39m\u001b[38;5;130;01m\\'\u001b[39;00m\u001b[38;5;124mKisses_Profile_Testplot.png\u001b[39m\u001b[38;5;124m'\u001b[39m))\n",
      "\u001b[1;31mAttributeError\u001b[0m: 'function' object has no attribute 'savefig'"
     ]
    }
   ],
   "source": [
    "testplot.figure.savefig(os.path.join(r'C:\\Users\\Samth\\CareerFoundry Projects\\Achievement 6\\3 Visualizations\\'Kisses_Profile_Testplot.png'))"
   ]
  },
  {
   "cell_type": "code",
   "execution_count": 102,
   "id": "5ca6d3ca",
   "metadata": {},
   "outputs": [
    {
     "ename": "AttributeError",
     "evalue": "'function' object has no attribute 'savefig'",
     "output_type": "error",
     "traceback": [
      "\u001b[1;31m---------------------------------------------------------------------------\u001b[0m",
      "\u001b[1;31mAttributeError\u001b[0m                            Traceback (most recent call last)",
      "Cell \u001b[1;32mIn[102], line 1\u001b[0m\n\u001b[1;32m----> 1\u001b[0m trainplot\u001b[38;5;241m.\u001b[39mfigure\u001b[38;5;241m.\u001b[39msavefig(os\u001b[38;5;241m.\u001b[39mpath\u001b[38;5;241m.\u001b[39mjoin(\u001b[38;5;124mr\u001b[39m\u001b[38;5;124m'\u001b[39m\u001b[38;5;124mC:\u001b[39m\u001b[38;5;124m\\\u001b[39m\u001b[38;5;124mUsers\u001b[39m\u001b[38;5;124m\\\u001b[39m\u001b[38;5;124mSamth\u001b[39m\u001b[38;5;124m\\\u001b[39m\u001b[38;5;124mCareerFoundry Projects\u001b[39m\u001b[38;5;124m\\\u001b[39m\u001b[38;5;124mAchievement 6\u001b[39m\u001b[38;5;124m\\\u001b[39m\u001b[38;5;124m3 Visualizations\u001b[39m\u001b[38;5;130;01m\\'\u001b[39;00m\u001b[38;5;124mKisses_Profile_Trainplot.png\u001b[39m\u001b[38;5;124m'\u001b[39m))\n",
      "\u001b[1;31mAttributeError\u001b[0m: 'function' object has no attribute 'savefig'"
     ]
    }
   ],
   "source": [
    "trainplot.figure.savefig(os.path.join(r'C:\\Users\\Samth\\CareerFoundry Projects\\Achievement 6\\3 Visualizations\\'Kisses_Profile_Trainplot.png'))"
   ]
  },
  {
   "cell_type": "markdown",
   "id": "d803a065",
   "metadata": {},
   "source": [
    "For some reason I am unable to save the visualizations from the testing and training sets.."
   ]
  }
 ],
 "metadata": {
  "kernelspec": {
   "display_name": "Python 3 (ipykernel)",
   "language": "python",
   "name": "python3"
  },
  "language_info": {
   "codemirror_mode": {
    "name": "ipython",
    "version": 3
   },
   "file_extension": ".py",
   "mimetype": "text/x-python",
   "name": "python",
   "nbconvert_exporter": "python",
   "pygments_lexer": "ipython3",
   "version": "3.11.5"
  }
 },
 "nbformat": 4,
 "nbformat_minor": 5
}
