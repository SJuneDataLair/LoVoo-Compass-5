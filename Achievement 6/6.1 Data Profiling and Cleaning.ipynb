{
 "cells": [
  {
   "cell_type": "code",
   "execution_count": 1,
   "id": "e207de26",
   "metadata": {},
   "outputs": [],
   "source": [
    "#import libararies \n",
    "import pandas as pd\n",
    "import numpy as np\n",
    "import os"
   ]
  },
  {
   "cell_type": "code",
   "execution_count": 2,
   "id": "1a66ee42",
   "metadata": {},
   "outputs": [],
   "source": [
    "#import dataset \n",
    "useri=pd.read_csv(r'C:\\Users\\Samth\\CareerFoundry Projects\\Achievement 6\\1 Data\\Raw Data\\interests-of-users-by-age.csv')"
   ]
  },
  {
   "cell_type": "markdown",
   "id": "c44f77f8",
   "metadata": {},
   "source": [
    "# 1 Data Profiling"
   ]
  },
  {
   "cell_type": "code",
   "execution_count": 3,
   "id": "89543e62",
   "metadata": {},
   "outputs": [
    {
     "name": "stdout",
     "output_type": "stream",
     "text": [
      "(11, 16)\n"
     ]
    }
   ],
   "source": [
    "#viewing dataset shape\n",
    "print(useri.shape)"
   ]
  },
  {
   "cell_type": "code",
   "execution_count": 4,
   "id": "49100b20",
   "metadata": {},
   "outputs": [
    {
     "name": "stdout",
     "output_type": "stream",
     "text": [
      "   age  nbusers  percentwantchats  percentwantfriends  percentwantdates  \\\n",
      "0   18        1               0.0                 0.0               0.0   \n",
      "1   19      523              65.8                62.5              34.2   \n",
      "2   20      524              67.6                64.9              37.2   \n",
      "3   21      603              64.0                63.0              35.7   \n",
      "4   22      720              59.9                60.6              40.3   \n",
      "\n",
      "   meankissesreceived  meanvisitsreceived  meanfollowers  meanlanguagesknown  \\\n",
      "0                   0                 0.0            0.0                1.00   \n",
      "1                 179              4279.5            2.6                1.15   \n",
      "2                 208              4809.5            1.8                1.12   \n",
      "3                 167              4093.0            2.1                1.12   \n",
      "4                 134              3302.9            1.7                1.07   \n",
      "\n",
      "   totalwantchants  totalwantfriends  totalwantdates  totalkissesreceive  \\\n",
      "0                0                 0               0                   0   \n",
      "1              344               327             179               93985   \n",
      "2              354               340             195              109490   \n",
      "3              386               380             215              101063   \n",
      "4              431               436             290               96505   \n",
      "\n",
      "   totalvisitsreceived  totalfollowers  totallanguagesspoken  \n",
      "0                    0               0                     1  \n",
      "1              2238190            1374                   601  \n",
      "2              2520195             934                   586  \n",
      "3              2468100            1239                   678  \n",
      "4              2378122            1201                   771  \n"
     ]
    }
   ],
   "source": [
    "#profiling dataset \n",
    "print(useri.head())"
   ]
  },
  {
   "cell_type": "code",
   "execution_count": 9,
   "id": "b2c37499",
   "metadata": {},
   "outputs": [
    {
     "name": "stdout",
     "output_type": "stream",
     "text": [
      "             age     nbusers  percentwantchats  percentwantfriends  \\\n",
      "count  11.000000   11.000000         11.000000           11.000000   \n",
      "mean   23.000000  361.181818         54.827273           45.636364   \n",
      "std     3.316625  277.915749         29.392485           29.337153   \n",
      "min    18.000000    1.000000          0.000000            0.000000   \n",
      "25%    20.500000   59.000000         59.800000           30.300000   \n",
      "50%    23.000000  523.000000         61.000000           62.400000   \n",
      "75%    25.500000  563.500000         65.400000           62.750000   \n",
      "max    28.000000  720.000000        100.000000           64.900000   \n",
      "\n",
      "       percentwantdates  meankissesreceived  meanvisitsreceived  \\\n",
      "count         11.000000           11.000000           11.000000   \n",
      "mean          28.909091          172.545455         3420.409091   \n",
      "std           18.909440          175.262868         2362.395013   \n",
      "min            0.000000            0.000000            0.000000   \n",
      "25%           17.100000          121.000000         2871.200000   \n",
      "50%           37.200000          146.000000         3302.900000   \n",
      "75%           40.000000          173.000000         4186.250000   \n",
      "max           47.000000          661.000000         8755.000000   \n",
      "\n",
      "       meanfollowers  meanlanguagesknown  totalwantchants  totalwantfriends  \\\n",
      "count      11.000000           11.000000        11.000000         11.000000   \n",
      "mean        1.854545            1.440000       226.000000        226.363636   \n",
      "std         1.334439            1.181694       173.129431        174.078300   \n",
      "min         0.000000            1.000000         0.000000          0.000000   \n",
      "25%         0.850000            1.070000        38.500000         36.500000   \n",
      "50%         2.100000            1.100000       326.000000        327.000000   \n",
      "75%         2.600000            1.120000       354.000000        360.000000   \n",
      "max         3.900000            5.000000       431.000000        436.000000   \n",
      "\n",
      "       totalwantdates  totalkissesreceive  totalvisitsreceived  \\\n",
      "count       11.000000           11.000000         1.100000e+01   \n",
      "mean       139.818182        56713.727273         1.340023e+06   \n",
      "std        106.320100        45557.931797         1.084302e+06   \n",
      "min          0.000000            0.000000         0.000000e+00   \n",
      "25%         27.500000         8889.500000         1.704930e+05   \n",
      "50%        179.000000        68183.000000         1.607127e+06   \n",
      "75%        213.500000        96075.500000         2.308156e+06   \n",
      "max        290.000000       109490.000000         2.520195e+06   \n",
      "\n",
      "       totalfollowers  totallanguagesspoken  \n",
      "count       11.000000             11.000000  \n",
      "mean       846.818182            400.636364  \n",
      "std        639.312258            306.779814  \n",
      "min          0.000000              1.000000  \n",
      "25%        227.500000             65.000000  \n",
      "50%        934.000000            586.000000  \n",
      "75%       1306.500000            624.500000  \n",
      "max       1811.000000            771.000000  \n"
     ]
    }
   ],
   "source": [
    "print(useri.describe())"
   ]
  },
  {
   "cell_type": "markdown",
   "id": "7e465966",
   "metadata": {},
   "source": [
    "# 2 Data Cleaning"
   ]
  },
  {
   "cell_type": "code",
   "execution_count": 19,
   "id": "4b73e4f0",
   "metadata": {
    "scrolled": true
   },
   "outputs": [],
   "source": [
    "#creating test dataframe \n",
    "useri_test=useri"
   ]
  },
  {
   "cell_type": "code",
   "execution_count": 22,
   "id": "7603b170",
   "metadata": {},
   "outputs": [],
   "source": [
    "#checking for mixed type variables\n",
    "for col in useri_test.columns.tolist():\n",
    "    weird=(useri_test[[col]].applymap(type)!=useri_test[[col]].iloc[0].apply(type)).any(axis=1)\n",
    "if len(useri_test[weird])>0:\n",
    "    print(col)"
   ]
  },
  {
   "cell_type": "markdown",
   "id": "30ed0160",
   "metadata": {},
   "source": [
    "0 There are no mixed type variables in the dataset"
   ]
  },
  {
   "cell_type": "code",
   "execution_count": 7,
   "id": "93bd33c0",
   "metadata": {},
   "outputs": [
    {
     "name": "stdout",
     "output_type": "stream",
     "text": [
      "age                     0\n",
      "nbusers                 0\n",
      "percentwantchats        0\n",
      "percentwantfriends      0\n",
      "percentwantdates        0\n",
      "meankissesreceived      0\n",
      "meanvisitsreceived      0\n",
      "meanfollowers           0\n",
      "meanlanguagesknown      0\n",
      "totalwantchants         0\n",
      "totalwantfriends        0\n",
      "totalwantdates          0\n",
      "totalkissesreceive      0\n",
      "totalvisitsreceived     0\n",
      "totalfollowers          0\n",
      "totallanguagesspoken    0\n",
      "dtype: int64\n"
     ]
    }
   ],
   "source": [
    "#checking for missing values\n",
    "print(useri.isnull().sum())"
   ]
  },
  {
   "cell_type": "code",
   "execution_count": 8,
   "id": "854e8b08",
   "metadata": {},
   "outputs": [],
   "source": [
    "#checking for duplicates\n",
    "useri_dupe=[useri.duplicated()]"
   ]
  },
  {
   "cell_type": "markdown",
   "id": "d13e7277",
   "metadata": {},
   "source": [
    "1 There seem to be no duplicate values in the dataset"
   ]
  },
  {
   "cell_type": "code",
   "execution_count": 9,
   "id": "0cd1789e",
   "metadata": {},
   "outputs": [
    {
     "name": "stdout",
     "output_type": "stream",
     "text": [
      "    age  nbusers  percentwantchats  percentwantfriends  percentwantdates  \\\n",
      "0    18        1               0.0                 0.0               0.0   \n",
      "1    19      523              65.8                62.5              34.2   \n",
      "2    20      524              67.6                64.9              37.2   \n",
      "3    21      603              64.0                63.0              35.7   \n",
      "4    22      720              59.9                60.6              40.3   \n",
      "5    23      593              59.7                64.8              39.5   \n",
      "6    24      534              61.0                61.4              39.7   \n",
      "7    25      356              60.1                62.4              44.4   \n",
      "8    26      117              65.0                62.4              47.0   \n",
      "9    27        1             100.0                 0.0               0.0   \n",
      "10   28        1               0.0                 0.0               0.0   \n",
      "\n",
      "    meankissesreceived  meanvisitsreceived  meanfollowers  meanlanguagesknown  \\\n",
      "0                    0                 0.0            0.0                1.00   \n",
      "1                  179              4279.5            2.6                1.15   \n",
      "2                  208              4809.5            1.8                1.12   \n",
      "3                  167              4093.0            2.1                1.12   \n",
      "4                  134              3302.9            1.7                1.07   \n",
      "5                  161              3632.6            3.1                1.09   \n",
      "6                  127              3009.6            2.6                1.12   \n",
      "7                  115              2902.8            2.6                1.10   \n",
      "8                  146              2839.6            3.9                1.07   \n",
      "9                  661              8755.0            0.0                1.00   \n",
      "10                   0                 0.0            0.0                5.00   \n",
      "\n",
      "    totalwantchants  totalwantfriends  totalwantdates  totalkissesreceive  \\\n",
      "0                 0                 0               0                   0   \n",
      "1               344               327             179               93985   \n",
      "2               354               340             195              109490   \n",
      "3               386               380             215              101063   \n",
      "4               431               436             290               96505   \n",
      "5               354               384             234               95646   \n",
      "6               326               328             212               68183   \n",
      "7               214               222             158               41200   \n",
      "8                76                73              55               17118   \n",
      "9                 1                 0               0                 661   \n",
      "10                0                 0               0                   0   \n",
      "\n",
      "    totalvisitsreceived  totalfollowers  totallanguagesspoken  \n",
      "0                     0               0                     1  \n",
      "1               2238190            1374                   601  \n",
      "2               2520195             934                   586  \n",
      "3               2468100            1239                   678  \n",
      "4               2378122            1201                   771  \n",
      "5               2154138            1811                   648  \n",
      "6               1607127            1378                   599  \n",
      "7               1033400             923                   392  \n",
      "8                332231             455                   125  \n",
      "9                  8755               0                     1  \n",
      "10                    0               0                     5  \n"
     ]
    }
   ],
   "source": [
    "#dropping duplicates just in case they somehow exist\n",
    "print(useri.drop_duplicates())"
   ]
  },
  {
   "cell_type": "markdown",
   "id": "6d796a9c",
   "metadata": {},
   "source": [
    "2 We are able to confirm that there were no duplicates in the data set"
   ]
  },
  {
   "cell_type": "code",
   "execution_count": 10,
   "id": "ca07b453",
   "metadata": {},
   "outputs": [
    {
     "data": {
      "text/plain": [
       "(11, 16)"
      ]
     },
     "execution_count": 10,
     "metadata": {},
     "output_type": "execute_result"
    }
   ],
   "source": [
    "#viewing dimensions of new dataframe after cleaning to see if any changes occured\n",
    "useri.shape"
   ]
  },
  {
   "cell_type": "code",
   "execution_count": 23,
   "id": "9e7c6d90",
   "metadata": {},
   "outputs": [],
   "source": [
    "#saving current dataset\n",
    "useri.to_csv(os.path.join(r'C:\\Users\\Samth\\CareerFoundry Projects\\Achievement 6\\1 Data\\Manipulated Data\\user_interest.csv'))"
   ]
  },
  {
   "cell_type": "markdown",
   "id": "9409e4f0",
   "metadata": {},
   "source": [
    "# 3 Data Profiling Second Dataset"
   ]
  },
  {
   "cell_type": "code",
   "execution_count": 3,
   "id": "d76c56c4",
   "metadata": {},
   "outputs": [],
   "source": [
    "#importing next dataset to profile\n",
    "userapi=pd.read_csv(r'C:\\Users\\Samth\\CareerFoundry Projects\\Achievement 6\\1 Data\\Raw Data\\lovoo_v3_users_api-results.csv')"
   ]
  },
  {
   "cell_type": "code",
   "execution_count": 33,
   "id": "187091a1",
   "metadata": {},
   "outputs": [
    {
     "name": "stdout",
     "output_type": "stream",
     "text": [
      "(3973, 42)\n"
     ]
    }
   ],
   "source": [
    "#viewing user shape\n",
    "print(userapi.shape)"
   ]
  },
  {
   "cell_type": "code",
   "execution_count": 34,
   "id": "8d25fe1f",
   "metadata": {},
   "outputs": [
    {
     "name": "stdout",
     "output_type": "stream",
     "text": [
      "               age  counts_details  counts_pictures  counts_profileVisits  \\\n",
      "count  3973.000000     3973.000000      3973.000000           3973.000000   \n",
      "mean     21.995973        0.568369         4.789831           3710.107727   \n",
      "std       1.961868        0.325983         4.425150           6857.418509   \n",
      "min      18.000000        0.000000         0.000000              0.000000   \n",
      "25%      20.000000        0.310000         2.000000            384.000000   \n",
      "50%      22.000000        0.620000         4.000000           1237.000000   \n",
      "75%      24.000000        0.850000         6.000000           4061.000000   \n",
      "max      28.000000        1.000000        30.000000         164425.000000   \n",
      "\n",
      "       counts_kisses  counts_fans     counts_g     distance  isFlirtstar  \\\n",
      "count    3973.000000  3973.000000  3973.000000  3946.000000  3973.000000   \n",
      "mean      157.022653     2.344576     0.126101   207.230005     0.011830   \n",
      "std       378.487718    12.264101     1.241874   196.594017     0.108133   \n",
      "min         0.000000     0.000000     0.000000     0.000000     0.000000   \n",
      "25%        11.000000     0.000000     0.000000    83.875000     0.000000   \n",
      "50%        44.000000     0.000000     0.000000   172.000000     0.000000   \n",
      "75%       141.000000     0.000000     0.000000   317.000000     0.000000   \n",
      "max      9288.000000   241.000000    43.000000  6918.000000     1.000000   \n",
      "\n",
      "       isHighlighted  ...        isNew     isOnline        isVip   lang_count  \\\n",
      "count    3973.000000  ...  3973.000000  3973.000000  3973.000000  3973.000000   \n",
      "mean        0.011830  ...     0.239869     0.587717     0.022905     1.109237   \n",
      "std         0.108133  ...     0.427057     0.492308     0.149618     0.583119   \n",
      "min         0.000000  ...     0.000000     0.000000     0.000000     0.000000   \n",
      "25%         0.000000  ...     0.000000     0.000000     0.000000     1.000000   \n",
      "50%         0.000000  ...     0.000000     1.000000     0.000000     1.000000   \n",
      "75%         0.000000  ...     0.000000     1.000000     0.000000     1.000000   \n",
      "max         1.000000  ...     1.000000     1.000000     1.000000     9.000000   \n",
      "\n",
      "          verified  shareProfileEnabled  lastOnlineTime       birthd  crypt  \\\n",
      "count  3973.000000          3973.000000    3.972000e+03  3973.000000   27.0   \n",
      "mean      0.220992             0.961238    1.428920e+09     0.003775    1.0   \n",
      "std       0.414967             0.193051    8.233397e+05     0.061337    0.0   \n",
      "min       0.000000             0.000000    1.426592e+09     0.000000    1.0   \n",
      "25%       0.000000             1.000000    1.428332e+09     0.000000    1.0   \n",
      "50%       0.000000             1.000000    1.428399e+09     0.000000    1.0   \n",
      "75%       0.000000             1.000000    1.429992e+09     0.000000    1.0   \n",
      "max       1.000000             1.000000    1.430647e+09     1.000000    1.0   \n",
      "\n",
      "       isSystemProfile  \n",
      "count              2.0  \n",
      "mean               1.0  \n",
      "std                0.0  \n",
      "min                1.0  \n",
      "25%                1.0  \n",
      "50%                1.0  \n",
      "75%                1.0  \n",
      "max                1.0  \n",
      "\n",
      "[8 rows x 22 columns]\n"
     ]
    }
   ],
   "source": [
    "#viewing user desciptives\n",
    "print(userapi.describe())"
   ]
  },
  {
   "cell_type": "code",
   "execution_count": 4,
   "id": "bf042070",
   "metadata": {},
   "outputs": [
    {
     "name": "stdout",
     "output_type": "stream",
     "text": [
      "Index(['gender', 'genderLooking', 'age', 'name', 'counts_details',\n",
      "       'counts_pictures', 'counts_profileVisits', 'counts_kisses',\n",
      "       'counts_fans', 'counts_g', 'flirtInterests_chat',\n",
      "       'flirtInterests_friends', 'flirtInterests_date', 'country', 'city',\n",
      "       'location', 'distance', 'isFlirtstar', 'isHighlighted', 'isInfluencer',\n",
      "       'isMobile', 'isNew', 'isOnline', 'isVip', 'lang_count', 'lang_fr',\n",
      "       'lang_en', 'lang_de', 'lang_it', 'lang_es', 'lang_pt', 'verified',\n",
      "       'shareProfileEnabled', 'lastOnlineDate', 'lastOnlineTime', 'birthd',\n",
      "       'crypt', 'freetext', 'whazzup', 'pictureId', 'userId',\n",
      "       'isSystemProfile'],\n",
      "      dtype='object')\n"
     ]
    }
   ],
   "source": [
    "#viewing all columns\n",
    "print(userapi.columns)"
   ]
  },
  {
   "cell_type": "code",
   "execution_count": 5,
   "id": "8c43de51",
   "metadata": {},
   "outputs": [],
   "source": [
    "#deleting unnecessary columns \n",
    "userapi=userapi.drop(columns=['birthd','crypt','isSystemProfile','name','freetext','whazzup','pictureId'])"
   ]
  },
  {
   "cell_type": "markdown",
   "id": "48d6b8ab",
   "metadata": {},
   "source": [
    "# 4 Data Cleaning for Second Dataset"
   ]
  },
  {
   "cell_type": "code",
   "execution_count": 6,
   "id": "161c98a1",
   "metadata": {},
   "outputs": [
    {
     "data": {
      "text/plain": [
       "gender                      0\n",
       "genderLooking               0\n",
       "age                         0\n",
       "counts_details              0\n",
       "counts_pictures             0\n",
       "counts_profileVisits        0\n",
       "counts_kisses               0\n",
       "counts_fans                 0\n",
       "counts_g                    0\n",
       "flirtInterests_chat         0\n",
       "flirtInterests_friends      0\n",
       "flirtInterests_date         0\n",
       "country                     0\n",
       "city                      287\n",
       "location                   13\n",
       "distance                   27\n",
       "isFlirtstar                 0\n",
       "isHighlighted               0\n",
       "isInfluencer                0\n",
       "isMobile                    0\n",
       "isNew                       0\n",
       "isOnline                    0\n",
       "isVip                       0\n",
       "lang_count                  0\n",
       "lang_fr                     0\n",
       "lang_en                     0\n",
       "lang_de                     0\n",
       "lang_it                     0\n",
       "lang_es                     0\n",
       "lang_pt                     0\n",
       "verified                    0\n",
       "shareProfileEnabled         0\n",
       "lastOnlineDate              1\n",
       "lastOnlineTime              1\n",
       "userId                     86\n",
       "dtype: int64"
      ]
     },
     "execution_count": 6,
     "metadata": {},
     "output_type": "execute_result"
    }
   ],
   "source": [
    "#checking for missing values\n",
    "userapi.isnull().sum()"
   ]
  },
  {
   "cell_type": "markdown",
   "id": "50363989",
   "metadata": {},
   "source": [
    "1 Since missing values are related to location or time, these values can not be estimated. The rows with these values will be deleted"
   ]
  },
  {
   "cell_type": "code",
   "execution_count": 7,
   "id": "5085ca15",
   "metadata": {},
   "outputs": [],
   "source": [
    "#deleting missing values in dataset\n",
    "userapi.dropna(inplace=True)"
   ]
  },
  {
   "cell_type": "code",
   "execution_count": 8,
   "id": "49531139",
   "metadata": {},
   "outputs": [
    {
     "name": "stdout",
     "output_type": "stream",
     "text": [
      "(3572, 35)\n"
     ]
    }
   ],
   "source": [
    "#viewing dataset shape to verify changes occured\n",
    "print(userapi.shape)"
   ]
  },
  {
   "cell_type": "code",
   "execution_count": 9,
   "id": "b8445011",
   "metadata": {},
   "outputs": [],
   "source": [
    "#checking for duplicates in dataset\n",
    "userapi_dupe=[userapi.duplicated()]"
   ]
  },
  {
   "cell_type": "code",
   "execution_count": 10,
   "id": "264f6edc",
   "metadata": {},
   "outputs": [
    {
     "name": "stdout",
     "output_type": "stream",
     "text": [
      "     gender genderLooking  age  counts_details  counts_pictures  \\\n",
      "0         F             M   25            1.00                4   \n",
      "1         F             M   22            0.85                5   \n",
      "2         F             M   21            0.00                4   \n",
      "3         F          none   20            0.12                3   \n",
      "4         F             M   21            0.15               12   \n",
      "...     ...           ...  ...             ...              ...   \n",
      "3937      F             M   20            0.90                2   \n",
      "3938      F             M   23            0.00                8   \n",
      "3941      F             M   25            0.00                1   \n",
      "3942      F             M   19            0.00                1   \n",
      "3944      F             M   23            0.20                4   \n",
      "\n",
      "      counts_profileVisits  counts_kisses  counts_fans  counts_g  \\\n",
      "0                     8279            239            0         3   \n",
      "1                      663             13            0         0   \n",
      "2                     1369             88            0         2   \n",
      "3                    22187           1015            2         3   \n",
      "4                    35262           1413            9        12   \n",
      "...                    ...            ...          ...       ...   \n",
      "3937                   105              2            0         0   \n",
      "3938                   195              6            0         0   \n",
      "3941                    31              0            0         0   \n",
      "3942                     3              0            0         0   \n",
      "3944                    54              0            0         0   \n",
      "\n",
      "      flirtInterests_chat  ...  lang_en  lang_de lang_it lang_es lang_pt  \\\n",
      "0                    True  ...    False     True   False   False   False   \n",
      "1                    True  ...    False     True    True   False   False   \n",
      "2                   False  ...    False    False   False   False   False   \n",
      "3                    True  ...     True    False   False   False   False   \n",
      "4                    True  ...    False     True   False   False   False   \n",
      "...                   ...  ...      ...      ...     ...     ...     ...   \n",
      "3937                False  ...    False    False   False    True   False   \n",
      "3938                False  ...    False     True   False   False   False   \n",
      "3941                False  ...    False    False   False   False   False   \n",
      "3942                 True  ...    False    False   False   False   False   \n",
      "3944                 True  ...    False    False   False   False   False   \n",
      "\n",
      "      verified  shareProfileEnabled        lastOnlineDate  lastOnlineTime  \\\n",
      "0            0                    1  2015-04-25T20:43:26Z    1.429995e+09   \n",
      "1            0                    1  2015-04-26T09:19:35Z    1.430040e+09   \n",
      "2            0                    1  2015-04-06T14:24:07Z    1.428330e+09   \n",
      "3            0                    1  2015-04-07T11:21:01Z    1.428406e+09   \n",
      "4            0                    1  2015-04-06T14:25:20Z    1.428330e+09   \n",
      "...        ...                  ...                   ...             ...   \n",
      "3937         0                    1  2015-05-03T07:30:09Z    1.430638e+09   \n",
      "3938         0                    1  2015-05-03T08:59:57Z    1.430644e+09   \n",
      "3941         0                    1  2015-05-03T08:57:34Z    1.430643e+09   \n",
      "3942         0                    1  2015-05-03T09:08:27Z    1.430644e+09   \n",
      "3944         0                    1  2015-05-03T06:51:33Z    1.430636e+09   \n",
      "\n",
      "                        userId  \n",
      "0     55303fc3160ba0eb728b4575  \n",
      "1     552e7b61c66da10d1e8b4c82  \n",
      "2     54a584ecc56da128638b4674  \n",
      "3     54c92738076ea1b5338b4735  \n",
      "4     54e1a6f6c76da135748b4a3a  \n",
      "...                        ...  \n",
      "3937  5544e4c3140ba0af1d8b47e1  \n",
      "3938  5544fa0d0a6ea130328b4af0  \n",
      "3941  55456631553fcb84024e8d7d  \n",
      "3942  5545664a553fcb84024e8e05  \n",
      "3944  5545998bc86da1f16a8b468e  \n",
      "\n",
      "[3572 rows x 35 columns]\n"
     ]
    }
   ],
   "source": [
    "#dropping any existing duplicates\n",
    "print(userapi.drop_duplicates())"
   ]
  },
  {
   "cell_type": "code",
   "execution_count": 11,
   "id": "a670cec0",
   "metadata": {},
   "outputs": [
    {
     "name": "stdout",
     "output_type": "stream",
     "text": [
      "(3572, 35)\n"
     ]
    }
   ],
   "source": [
    "#viewing is any changes occured to shape after dropping duplicates\n",
    "print(userapi.shape)"
   ]
  },
  {
   "cell_type": "markdown",
   "id": "a058416c",
   "metadata": {},
   "source": [
    "2 No duplicates were found"
   ]
  },
  {
   "cell_type": "code",
   "execution_count": 12,
   "id": "8c338b7c",
   "metadata": {},
   "outputs": [
    {
     "name": "stdout",
     "output_type": "stream",
     "text": [
      "               age  counts_details  counts_pictures  counts_profileVisits  \\\n",
      "count  3572.000000      3572.00000      3572.000000           3572.000000   \n",
      "mean     21.973684         0.58820         5.022676           3932.552072   \n",
      "std       1.967641         0.31678         4.482930           7079.850113   \n",
      "min      19.000000         0.00000         1.000000              0.000000   \n",
      "25%      20.000000         0.35000         2.000000            451.750000   \n",
      "50%      22.000000         0.65000         4.000000           1359.000000   \n",
      "75%      24.000000         0.85000         6.000000           4360.750000   \n",
      "max      28.000000         1.00000        30.000000         164425.000000   \n",
      "\n",
      "       counts_kisses  counts_fans     counts_g     distance  isFlirtstar  \\\n",
      "count    3572.000000  3572.000000  3572.000000  3572.000000  3572.000000   \n",
      "mean      166.722284     2.532475     0.135498   207.071473     0.012598   \n",
      "std       392.889140    12.860791     1.294758   200.542859     0.111547   \n",
      "min         0.000000     0.000000     0.000000     0.000000     0.000000   \n",
      "25%        14.000000     0.000000     0.000000    88.650000     0.000000   \n",
      "50%        49.000000     0.000000     0.000000   172.000000     0.000000   \n",
      "75%       152.000000     1.000000     0.000000   316.000000     0.000000   \n",
      "max      9288.000000   241.000000    43.000000  6918.000000     1.000000   \n",
      "\n",
      "       isHighlighted  isInfluencer     isMobile        isNew     isOnline  \\\n",
      "count    3572.000000        3572.0  3572.000000  3572.000000  3572.000000   \n",
      "mean        0.012598           0.0     0.750000     0.221165     0.583707   \n",
      "std         0.111547           0.0     0.433073     0.415089     0.493012   \n",
      "min         0.000000           0.0     0.000000     0.000000     0.000000   \n",
      "25%         0.000000           0.0     0.750000     0.000000     0.000000   \n",
      "50%         0.000000           0.0     1.000000     0.000000     1.000000   \n",
      "75%         0.000000           0.0     1.000000     0.000000     1.000000   \n",
      "max         1.000000           0.0     1.000000     1.000000     1.000000   \n",
      "\n",
      "             isVip   lang_count     verified  shareProfileEnabled  \\\n",
      "count  3572.000000  3572.000000  3572.000000          3572.000000   \n",
      "mean      0.024636     1.110302     0.236842             0.961086   \n",
      "std       0.155035     0.597892     0.425204             0.193417   \n",
      "min       0.000000     0.000000     0.000000             0.000000   \n",
      "25%       0.000000     1.000000     0.000000             1.000000   \n",
      "50%       0.000000     1.000000     0.000000             1.000000   \n",
      "75%       0.000000     1.000000     0.000000             1.000000   \n",
      "max       1.000000     9.000000     1.000000             1.000000   \n",
      "\n",
      "       lastOnlineTime  \n",
      "count    3.572000e+03  \n",
      "mean     1.428921e+09  \n",
      "std      8.168428e+05  \n",
      "min      1.426815e+09  \n",
      "25%      1.428332e+09  \n",
      "50%      1.428403e+09  \n",
      "75%      1.429992e+09  \n",
      "max      1.430647e+09  \n"
     ]
    }
   ],
   "source": [
    "#viewing final descriptive stats\n",
    "print(userapi.describe())"
   ]
  },
  {
   "cell_type": "code",
   "execution_count": 13,
   "id": "31643a53",
   "metadata": {},
   "outputs": [],
   "source": [
    "#exporting final set\n",
    "userapi.to_csv(os.path.join(r'C:\\Users\\Samth\\CareerFoundry Projects\\Achievement 6\\1 Data\\Manipulated Data\\userapi_clean.csv'))"
   ]
  },
  {
   "cell_type": "markdown",
   "id": "681d0e3b",
   "metadata": {},
   "source": [
    "# 5 Data Profile for Third Dataset"
   ]
  },
  {
   "cell_type": "code",
   "execution_count": 14,
   "id": "c8fc8313",
   "metadata": {},
   "outputs": [],
   "source": [
    "#importing third dataset\n",
    "userinstances=pd.read_csv(r\"C:\\Users\\Samth\\CareerFoundry Projects\\Achievement 6\\1 Data\\Raw Data\\lovoo_v3_users_instances.csv\")"
   ]
  },
  {
   "cell_type": "code",
   "execution_count": 15,
   "id": "12572ef7",
   "metadata": {},
   "outputs": [
    {
     "name": "stdout",
     "output_type": "stream",
     "text": [
      "(2919, 39)\n"
     ]
    }
   ],
   "source": [
    "#viewing original dataset shape\n",
    "print(userinstances.shape)"
   ]
  },
  {
   "cell_type": "code",
   "execution_count": 16,
   "id": "5139dd08",
   "metadata": {},
   "outputs": [
    {
     "name": "stdout",
     "output_type": "stream",
     "text": [
      "               age  counts_pictures  counts_profileVisits  counts_kisses  \\\n",
      "count  2919.000000      2919.000000           2919.000000    2919.000000   \n",
      "mean     22.196643         4.965057           3923.583076     166.207263   \n",
      "std       2.041308         4.589094           7203.342904     393.546556   \n",
      "min      18.000000         0.000000              0.000000       0.000000   \n",
      "25%      20.000000         2.000000            414.500000      13.000000   \n",
      "50%      22.000000         4.000000           1341.000000      48.000000   \n",
      "75%      24.000000         6.000000           4469.000000     156.000000   \n",
      "max      28.000000        30.000000         164425.000000    9288.000000   \n",
      "\n",
      "       lastOnlineTs   lang_count  countDetails     distance  \n",
      "count  2.918000e+03  2919.000000   2919.000000  2919.000000  \n",
      "mean   1.429153e+09     1.120589      0.572004   176.534909  \n",
      "std    8.502311e+05     0.614412      0.330713   209.282646  \n",
      "min    1.426592e+09     0.000000      0.000000     0.000000  \n",
      "25%    1.428337e+09     1.000000      0.310000    66.750000  \n",
      "50%    1.428507e+09     1.000000      0.650000   150.000000  \n",
      "75%    1.430046e+09     1.000000      0.850000   229.000000  \n",
      "max    1.430647e+09     9.000000      1.000000  6918.000000  \n"
     ]
    }
   ],
   "source": [
    "#viewing original descriptive stats\n",
    "print(userinstances.describe())"
   ]
  },
  {
   "cell_type": "code",
   "execution_count": 17,
   "id": "8b52117e",
   "metadata": {},
   "outputs": [
    {
     "name": "stdout",
     "output_type": "stream",
     "text": [
      "Index(['gender', 'age', 'name', 'counts_pictures', 'counts_profileVisits',\n",
      "       'counts_kisses', 'flirtInterests_chat', 'flirtInterests_friends',\n",
      "       'flirtInterests_date', 'connectedToFacebook', 'isVIP', 'isVerified',\n",
      "       'lastOnline', 'lastOnlineTs', 'lang_count', 'lang_fr', 'lang_en',\n",
      "       'lang_de', 'lang_it', 'lang_es', 'lang_pt', 'city', 'locationCity',\n",
      "       'locationCitySub', 'userInfo_visitDate', 'countDetails', 'crypt',\n",
      "       'flirtstar', 'freshman', 'hasBirthday', 'highlighted', 'distance',\n",
      "       'locked', 'mobile', 'online', 'whazzup', 'pictureId', 'userId',\n",
      "       'isSystemProfile'],\n",
      "      dtype='object')\n"
     ]
    }
   ],
   "source": [
    "#viewing all columns to identify any unneeded columns\n",
    "print(userinstances.columns)"
   ]
  },
  {
   "cell_type": "code",
   "execution_count": 18,
   "id": "61e17567",
   "metadata": {},
   "outputs": [],
   "source": [
    "#deleting unneeded columns\n",
    "userinstances=userinstances.drop(columns=['name','countDetails','crypt','whazzup','pictureId','isSystemProfile'])"
   ]
  },
  {
   "cell_type": "markdown",
   "id": "ed7b65d3",
   "metadata": {},
   "source": [
    "# 6 Data Cleaning for Third Dataset"
   ]
  },
  {
   "cell_type": "code",
   "execution_count": 19,
   "id": "66a2a812",
   "metadata": {},
   "outputs": [
    {
     "name": "stdout",
     "output_type": "stream",
     "text": [
      "gender                       0\n",
      "age                          0\n",
      "counts_pictures              0\n",
      "counts_profileVisits         0\n",
      "counts_kisses                0\n",
      "flirtInterests_chat          0\n",
      "flirtInterests_friends       0\n",
      "flirtInterests_date          0\n",
      "connectedToFacebook          0\n",
      "isVIP                        0\n",
      "isVerified                   0\n",
      "lastOnline                   1\n",
      "lastOnlineTs                 1\n",
      "lang_count                   0\n",
      "lang_fr                      0\n",
      "lang_en                      0\n",
      "lang_de                      0\n",
      "lang_it                      0\n",
      "lang_es                      0\n",
      "lang_pt                      0\n",
      "city                       210\n",
      "locationCity                10\n",
      "locationCitySub           2851\n",
      "userInfo_visitDate        2907\n",
      "flirtstar                    0\n",
      "freshman                     0\n",
      "hasBirthday                  0\n",
      "highlighted                  0\n",
      "distance                     0\n",
      "locked                       0\n",
      "mobile                       0\n",
      "online                       0\n",
      "userId                      62\n",
      "dtype: int64\n"
     ]
    }
   ],
   "source": [
    "#finding missing data\n",
    "print(userinstances.isnull().sum())"
   ]
  },
  {
   "cell_type": "markdown",
   "id": "271b282e",
   "metadata": {},
   "source": [
    "1 The missing data found is related to time variable or location variable data which can not be replaced, however two of the variables \"location City Sub\" and userInfo_visitDate is missing for nearly the entire dataset, rather than delete these missing rows, we will delete the columns while still maintain location data in \"location city\" and \"city\""
   ]
  },
  {
   "cell_type": "code",
   "execution_count": 20,
   "id": "789d9cf4",
   "metadata": {},
   "outputs": [],
   "source": [
    "#deleting columns of extra location data\n",
    "userinstances=userinstances.drop(columns=['locationCitySub','userInfo_visitDate'])"
   ]
  },
  {
   "cell_type": "code",
   "execution_count": 21,
   "id": "ea6c077b",
   "metadata": {},
   "outputs": [],
   "source": [
    "#removing missing data in the rest of the dataset\n",
    "userinstances.dropna(inplace=True)"
   ]
  },
  {
   "cell_type": "code",
   "execution_count": 22,
   "id": "0c2d8ce6",
   "metadata": {},
   "outputs": [
    {
     "name": "stdout",
     "output_type": "stream",
     "text": [
      "(2643, 31)\n"
     ]
    }
   ],
   "source": [
    "#checking shape after removing missing data and columns\n",
    "print(userinstances.shape)"
   ]
  },
  {
   "cell_type": "code",
   "execution_count": 23,
   "id": "dd1bbbc5",
   "metadata": {},
   "outputs": [],
   "source": [
    "#checking for duplicates\n",
    "userinstances_dupe=userinstances.duplicated()"
   ]
  },
  {
   "cell_type": "code",
   "execution_count": 24,
   "id": "1d6be6e8",
   "metadata": {},
   "outputs": [
    {
     "name": "stdout",
     "output_type": "stream",
     "text": [
      "     gender  age  counts_pictures  counts_profileVisits  counts_kisses  \\\n",
      "0         F   25                4                  8279            239   \n",
      "1         F   22                5                   663             13   \n",
      "2         F   20                3                 22187           1015   \n",
      "3         F   24               18                  7339            180   \n",
      "4         F   24               13                 18672            492   \n",
      "...     ...  ...              ...                   ...            ...   \n",
      "2914      F   20                8                  1101             46   \n",
      "2915      F   23                8                  8681            141   \n",
      "2916      F   23                8                  8682            141   \n",
      "2917      F   23                8                  8702            142   \n",
      "2918      F   23                9                  8904            143   \n",
      "\n",
      "      flirtInterests_chat  flirtInterests_friends  flirtInterests_date  \\\n",
      "0                    True                    True                 True   \n",
      "1                    True                    True                 True   \n",
      "2                    True                    True                False   \n",
      "3                    True                   False                 True   \n",
      "4                   False                    True                False   \n",
      "...                   ...                     ...                  ...   \n",
      "2914                 True                    True                 True   \n",
      "2915                 True                    True                 True   \n",
      "2916                 True                    True                 True   \n",
      "2917                 True                    True                 True   \n",
      "2918                 True                    True                 True   \n",
      "\n",
      "      connectedToFacebook  isVIP  ...      locationCity flirtstar  freshman  \\\n",
      "0                   False  False  ...           Rümlang     False     False   \n",
      "1                   False  False  ...           Sissach     False     False   \n",
      "2                   False  False  ...             Berne     False     False   \n",
      "3                   False  False  ...  Titisee-Neustadt     False     False   \n",
      "4                   False  False  ...         Stuttgart     False     False   \n",
      "...                   ...    ...  ...               ...       ...       ...   \n",
      "2914                False  False  ...             Bière     False     False   \n",
      "2915                False  False  ...          Heimberg     False     False   \n",
      "2916                False  False  ...          Heimberg     False     False   \n",
      "2917                False  False  ...          Heimberg     False     False   \n",
      "2918                False  False  ...          Heimberg     False     False   \n",
      "\n",
      "      hasBirthday  highlighted    distance  locked  mobile  online  \\\n",
      "0           False        False  175.000000   False    True   False   \n",
      "1           False        False  138.000000   False    True   False   \n",
      "2           False        False   77.300003   False   False   False   \n",
      "3           False        False  194.000000   False    True    True   \n",
      "4           False        False  318.000000   False    True    True   \n",
      "...           ...          ...         ...     ...     ...     ...   \n",
      "2914        False        False    0.000000   False   False   False   \n",
      "2915        False        False    0.000000    True    True    True   \n",
      "2916        False        False    0.000000    True    True   False   \n",
      "2917        False        False    0.000000   False    True    True   \n",
      "2918        False        False    0.000000   False    True   False   \n",
      "\n",
      "                                userId  \n",
      "0             55303fc3160ba0eb728b4575  \n",
      "1             552e7b61c66da10d1e8b4c82  \n",
      "2             54c92738076ea1b5338b4735  \n",
      "3             54f2b4ce0b6ea1177e8b4d18  \n",
      "4             54ecbb39170ba08b488b4aa5  \n",
      "...                                ...  \n",
      "2914  d5a7edbcb59fcb092871bdcde7f142ca  \n",
      "2915  e532a6060fe4e5902c66086d905a9d53  \n",
      "2916  e532a6060fe4e5902c66086d905a9d53  \n",
      "2917  e532a6060fe4e5902c66086d905a9d53  \n",
      "2918  dc186f3855343c9f096c484f6d363aac  \n",
      "\n",
      "[2643 rows x 31 columns]\n"
     ]
    }
   ],
   "source": [
    "#removing any duplicate values\n",
    "print(userinstances.drop_duplicates())"
   ]
  },
  {
   "cell_type": "code",
   "execution_count": 25,
   "id": "7d256f2f",
   "metadata": {},
   "outputs": [
    {
     "name": "stdout",
     "output_type": "stream",
     "text": [
      "(2643, 31)\n"
     ]
    }
   ],
   "source": [
    "#checking shape after deleting duplicates to confirm any changes\n",
    "print(userinstances.shape)"
   ]
  },
  {
   "cell_type": "markdown",
   "id": "0c6beb0d",
   "metadata": {},
   "source": [
    "2 The shape has not changed since removing the missing values so, there are no duplicate values to be removed in the dataset"
   ]
  },
  {
   "cell_type": "code",
   "execution_count": 26,
   "id": "bf9b0916",
   "metadata": {},
   "outputs": [
    {
     "name": "stdout",
     "output_type": "stream",
     "text": [
      "               age  counts_pictures  counts_profileVisits  counts_kisses  \\\n",
      "count  2643.000000      2643.000000            2643.00000    2643.000000   \n",
      "mean     22.183125         5.230798            4148.66818     176.633750   \n",
      "std       2.047447         4.660918            7401.32985     406.814966   \n",
      "min      19.000000         1.000000               0.00000       0.000000   \n",
      "25%      20.000000         2.000000             499.50000      16.000000   \n",
      "50%      22.000000         4.000000            1527.00000      56.000000   \n",
      "75%      24.000000         6.000000            4825.00000     171.000000   \n",
      "max      28.000000        30.000000          164425.00000    9288.000000   \n",
      "\n",
      "       lastOnlineTs   lang_count     distance  \n",
      "count  2.643000e+03  2643.000000  2643.000000  \n",
      "mean   1.429153e+09     1.120696   176.468294  \n",
      "std    8.425669e+05     0.627558   214.191793  \n",
      "min    1.426815e+09     0.000000     0.000000  \n",
      "25%    1.428337e+09     1.000000    73.650002  \n",
      "50%    1.428507e+09     1.000000   150.000000  \n",
      "75%    1.430045e+09     1.000000   218.000000  \n",
      "max    1.430647e+09     9.000000  6918.000000  \n"
     ]
    }
   ],
   "source": [
    "#viewing final descriptive stats\n",
    "print(userinstances.describe())"
   ]
  },
  {
   "cell_type": "code",
   "execution_count": 27,
   "id": "51fcd68b",
   "metadata": {},
   "outputs": [],
   "source": [
    "#exporting final clean set\n",
    "userinstances.to_csv(os.path.join(r'C:\\Users\\Samth\\CareerFoundry Projects\\Achievement 6\\1 Data\\Manipulated Data\\userinstances_clean.csv'))"
   ]
  }
 ],
 "metadata": {
  "kernelspec": {
   "display_name": "Python 3 (ipykernel)",
   "language": "python",
   "name": "python3"
  },
  "language_info": {
   "codemirror_mode": {
    "name": "ipython",
    "version": 3
   },
   "file_extension": ".py",
   "mimetype": "text/x-python",
   "name": "python",
   "nbconvert_exporter": "python",
   "pygments_lexer": "ipython3",
   "version": "3.11.5"
  }
 },
 "nbformat": 4,
 "nbformat_minor": 5
}
